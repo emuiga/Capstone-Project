{
 "cells": [
  {
   "cell_type": "code",
   "execution_count": 2,
   "id": "5c552835",
   "metadata": {},
   "outputs": [],
   "source": [
    "import pandas as pd\n",
    "import matplotlib.pyplot as plt\n",
    "import csv\n",
    "import sqlite3\n"
   ]
  },
  {
   "cell_type": "code",
   "execution_count": 3,
   "id": "4f2a6858",
   "metadata": {},
   "outputs": [
    {
     "name": "stdout",
     "output_type": "stream",
     "text": [
      "   Unnamed: 0          id                                                url  \\\n",
      "0      362773  7307679724  https://abilene.craigslist.org/ctd/d/abilene-2...   \n",
      "1      362712  7311833696  https://abilene.craigslist.org/ctd/d/abilene-2...   \n",
      "2      362722  7311441996  https://abilene.craigslist.org/ctd/d/abilene-2...   \n",
      "3      362771  7307680715  https://abilene.craigslist.org/ctd/d/abilene-2...   \n",
      "4      362710  7311834578  https://abilene.craigslist.org/ctd/d/abilene-2...   \n",
      "\n",
      "    region                      region_url  price    year manufacturer  \\\n",
      "0  abilene  https://abilene.craigslist.org   4500  2002.0          bmw   \n",
      "1  abilene  https://abilene.craigslist.org   4500  2002.0          bmw   \n",
      "2  abilene  https://abilene.craigslist.org   4900  2006.0       toyota   \n",
      "3  abilene  https://abilene.craigslist.org   6500  2008.0         ford   \n",
      "4  abilene  https://abilene.craigslist.org   6500  2008.0         ford   \n",
      "\n",
      "        model  condition  ...   type paint_color  \\\n",
      "0          x5        NaN  ...    NaN         NaN   \n",
      "1          x5        NaN  ...    NaN         NaN   \n",
      "2       camry  excellent  ...  sedan      silver   \n",
      "3  expedition        NaN  ...    NaN         NaN   \n",
      "4  expedition        NaN  ...    NaN         NaN   \n",
      "\n",
      "                                           image_url  \\\n",
      "0  https://images.craigslist.org/00m0m_iba78h8ty9...   \n",
      "1  https://images.craigslist.org/00m0m_iba78h8ty9...   \n",
      "2  https://images.craigslist.org/00808_5FkOw2aGjA...   \n",
      "3  https://images.craigslist.org/00M0M_i9CoFvVq8o...   \n",
      "4  https://images.craigslist.org/00M0M_i9CoFvVq8o...   \n",
      "\n",
      "                                         description county state        lat  \\\n",
      "0  $4,500 Cash  2002 BMW X5  8 cylinder 4.4L moto...    NaN    tx  32.401556   \n",
      "1  $4,500 Cash  2002 BMW X5  8 cylinder 4.4L moto...    NaN    tx  32.401556   \n",
      "2  2006 TOYOTA CAMRY LE Sedan   Ready To Upgrade ...    NaN    tx  32.453848   \n",
      "3  $6500.00 2008 Ford Expedition  8 cylinder 5.4L...    NaN    tx  32.401556   \n",
      "4  $6500.00 2008 Ford Expedition  8 cylinder 5.4L...    NaN    tx  32.401556   \n",
      "\n",
      "        long               posting_date               removal_date  \n",
      "0 -99.884713  2021-04-16 00:00:00+00:00  2021-05-02 00:00:00+00:00  \n",
      "1 -99.884713  2021-04-24 00:00:00+00:00  2021-04-28 00:00:00+00:00  \n",
      "2 -99.787900  2021-04-23 00:00:00+00:00  2021-05-25 00:00:00+00:00  \n",
      "3 -99.884713  2021-04-16 00:00:00+00:00  2021-04-26 00:00:00+00:00  \n",
      "4 -99.884713  2021-04-24 00:00:00+00:00  2021-05-12 00:00:00+00:00  \n",
      "\n",
      "[5 rows x 28 columns]\n"
     ]
    }
   ],
   "source": [
    "data = pd.read_csv(r\"C:\\Users\\muiga\\craigslist_vehicles.csv\")\n",
    "print(data.head())"
   ]
  },
  {
   "cell_type": "code",
   "execution_count": 8,
   "id": "85053108",
   "metadata": {},
   "outputs": [],
   "source": [
    "from sqlalchemy import create_engine\n",
    "engine = create_engine('sqlite:///capstone.db')"
   ]
  },
  {
   "cell_type": "code",
   "execution_count": 9,
   "id": "d1b04b9a",
   "metadata": {},
   "outputs": [],
   "source": [
    "table_name = 'craiglist'"
   ]
  },
  {
   "cell_type": "code",
   "execution_count": 14,
   "id": "eee46944",
   "metadata": {},
   "outputs": [
    {
     "data": {
      "text/plain": [
       "426880"
      ]
     },
     "execution_count": 14,
     "metadata": {},
     "output_type": "execute_result"
    }
   ],
   "source": [
    "data.to_sql(table_name, engine, index=False, if_exists='replace')"
   ]
  },
  {
   "cell_type": "code",
   "execution_count": null,
   "id": "93d436f5",
   "metadata": {},
   "outputs": [],
   "source": []
  }
 ],
 "metadata": {
  "kernelspec": {
   "display_name": "Python 3 (ipykernel)",
   "language": "python",
   "name": "python3"
  },
  "language_info": {
   "codemirror_mode": {
    "name": "ipython",
    "version": 3
   },
   "file_extension": ".py",
   "mimetype": "text/x-python",
   "name": "python",
   "nbconvert_exporter": "python",
   "pygments_lexer": "ipython3",
   "version": "3.11.5"
  }
 },
 "nbformat": 4,
 "nbformat_minor": 5
}
